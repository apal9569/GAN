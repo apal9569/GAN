{
  "nbformat": 4,
  "nbformat_minor": 0,
  "metadata": {
    "colab": {
      "name": "GAN.ipynb",
      "version": "0.3.2",
      "provenance": [],
      "include_colab_link": true
    },
    "kernelspec": {
      "name": "python3",
      "display_name": "Python 3"
    },
    "accelerator": "GPU"
  },
  "cells": [
    {
      "cell_type": "markdown",
      "metadata": {
        "id": "view-in-github",
        "colab_type": "text"
      },
      "source": [
        "<a href=\"https://colab.research.google.com/github/apal9569/GAN/blob/master/GAN.ipynb\" target=\"_parent\"><img src=\"https://colab.research.google.com/assets/colab-badge.svg\" alt=\"Open In Colab\"/></a>"
      ]
    },
    {
      "cell_type": "code",
      "metadata": {
        "id": "jZEtrO_8-yxQ",
        "colab_type": "code",
        "outputId": "7f871efb-b2c0-4591-8e83-b8ffbb46447e",
        "colab": {
          "base_uri": "https://localhost:8080/",
          "height": 204
        }
      },
      "source": [
        "!wget http://files.fast.ai/data/dogscats.zip"
      ],
      "execution_count": 0,
      "outputs": [
        {
          "output_type": "stream",
          "text": [
            "--2019-05-23 07:23:25--  http://files.fast.ai/data/dogscats.zip\n",
            "Resolving files.fast.ai (files.fast.ai)... 67.205.15.147\n",
            "Connecting to files.fast.ai (files.fast.ai)|67.205.15.147|:80... connected.\n",
            "HTTP request sent, awaiting response... 200 OK\n",
            "Length: 857214334 (818M) [application/zip]\n",
            "Saving to: ‘dogscats.zip’\n",
            "\n",
            "dogscats.zip        100%[===================>] 817.50M  90.8MB/s    in 8.2s    \n",
            "\n",
            "2019-05-23 07:23:33 (99.9 MB/s) - ‘dogscats.zip’ saved [857214334/857214334]\n",
            "\n"
          ],
          "name": "stdout"
        }
      ]
    },
    {
      "cell_type": "code",
      "metadata": {
        "id": "dEwmEKDs_ERU",
        "colab_type": "code",
        "colab": {}
      },
      "source": [
        "!unzip dogscats.zip"
      ],
      "execution_count": 0,
      "outputs": []
    },
    {
      "cell_type": "code",
      "metadata": {
        "id": "df_589FpWTYH",
        "colab_type": "code",
        "colab": {}
      },
      "source": [
        "import numpy as np"
      ],
      "execution_count": 0,
      "outputs": []
    },
    {
      "cell_type": "code",
      "metadata": {
        "id": "9CYlaLBfDkbM",
        "colab_type": "code",
        "colab": {}
      },
      "source": [
        "path=\"dogscats/\""
      ],
      "execution_count": 0,
      "outputs": []
    },
    {
      "cell_type": "code",
      "metadata": {
        "id": "ksOYdF5GAAOy",
        "colab_type": "code",
        "colab": {}
      },
      "source": [
        "!ls {path}\n"
      ],
      "execution_count": 0,
      "outputs": []
    },
    {
      "cell_type": "code",
      "metadata": {
        "id": "npBCycPNhlrn",
        "colab_type": "code",
        "colab": {}
      },
      "source": [
        "!ls {path}train"
      ],
      "execution_count": 0,
      "outputs": []
    },
    {
      "cell_type": "code",
      "metadata": {
        "id": "VXNoHl9Ch1QO",
        "colab_type": "code",
        "outputId": "65a8a963-28d1-4936-c668-5d262bcb8313",
        "colab": {
          "base_uri": "https://localhost:8080/",
          "height": 34
        }
      },
      "source": [
        "files1=!ls {path}train/cats\n",
        "file=[]\n",
        "for i in range(700):\n",
        "  f=files1[i].split()\n",
        "  file.append(f)\n",
        "len(file[1])\n",
        "files1.remove"
      ],
      "execution_count": 0,
      "outputs": [
        {
          "output_type": "execute_result",
          "data": {
            "text/plain": [
              "<function SList.remove>"
            ]
          },
          "metadata": {
            "tags": []
          },
          "execution_count": 5
        }
      ]
    },
    {
      "cell_type": "code",
      "metadata": {
        "id": "spIzN4JYqki5",
        "colab_type": "code",
        "colab": {}
      },
      "source": [
        "file=np.array(file)\n"
      ],
      "execution_count": 0,
      "outputs": []
    },
    {
      "cell_type": "code",
      "metadata": {
        "id": "TYBCTUvxtwst",
        "colab_type": "code",
        "outputId": "c8680272-9ee3-4755-8cda-a28f460aaf1f",
        "colab": {
          "base_uri": "https://localhost:8080/",
          "height": 34
        }
      },
      "source": [
        "n,m=file.shape\n",
        "m"
      ],
      "execution_count": 0,
      "outputs": [
        {
          "output_type": "execute_result",
          "data": {
            "text/plain": [
              "5"
            ]
          },
          "metadata": {
            "tags": []
          },
          "execution_count": 7
        }
      ]
    },
    {
      "cell_type": "code",
      "metadata": {
        "id": "TfWVLFNfBLSV",
        "colab_type": "code",
        "colab": {}
      },
      "source": [
        "imgs=[]\n",
        "import cv2\n",
        "for i in range(n):\n",
        "  for j in range(m):\n",
        "    img=cv2.imread(f'{path}train/cats/{file[i,j]}')\n",
        "    img=cv2.resize(img,(128,128))\n",
        "    #img = img.astype(np.float32) / 127.5 - 1.0\n",
        "    imgs.append(img)\n",
        "imgs=np.array(imgs)\n"
      ],
      "execution_count": 0,
      "outputs": []
    },
    {
      "cell_type": "code",
      "metadata": {
        "id": "7HkDFjfWDOfk",
        "colab_type": "code",
        "colab": {}
      },
      "source": [
        "from PIL import Image\n",
        "import matplotlib.image as mpimg\n",
        "import matplotlib.pyplot as plt"
      ],
      "execution_count": 0,
      "outputs": []
    },
    {
      "cell_type": "code",
      "metadata": {
        "id": "RCuGKWcy-Jgf",
        "colab_type": "code",
        "outputId": "69ac0624-d6cf-4a13-b1ef-ac4428cd7e74",
        "colab": {
          "base_uri": "https://localhost:8080/",
          "height": 286
        }
      },
      "source": [
        "plt.imshow(imgs[1])"
      ],
      "execution_count": 0,
      "outputs": [
        {
          "output_type": "execute_result",
          "data": {
            "text/plain": [
              "<matplotlib.image.AxesImage at 0x7f7c27d4fb70>"
            ]
          },
          "metadata": {
            "tags": []
          },
          "execution_count": 10
        },
        {
          "output_type": "display_data",
          "data": {
            "image/png": "[encoded data removed]",
            "text/plain": [
              "<Figure size 432x288 with 1 Axes>"
            ]
          },
          "metadata": {
            "tags": []
          }
        }
      ]
    },
    {
      "cell_type": "code",
      "metadata": {
        "id": "HGdN9NfxjfXA",
        "colab_type": "code",
        "outputId": "76a14bfb-d8e4-482e-dca9-e571150e80d1",
        "colab": {
          "base_uri": "https://localhost:8080/",
          "height": 34
        }
      },
      "source": [
        "img.shape"
      ],
      "execution_count": 0,
      "outputs": [
        {
          "output_type": "execute_result",
          "data": {
            "text/plain": [
              "(128, 128, 3)"
            ]
          },
          "metadata": {
            "tags": []
          },
          "execution_count": 12
        }
      ]
    },
    {
      "cell_type": "code",
      "metadata": {
        "id": "WbIiV6Wpo1UR",
        "colab_type": "code",
        "outputId": "f7208253-9d11-4ea9-f25d-3d5323d7bbd6",
        "colab": {
          "base_uri": "https://localhost:8080/",
          "height": 34
        }
      },
      "source": [
        "import keras\n",
        "import os\n",
        "import matplotlib.pyplot as plt\n",
        "from keras import layers\n",
        "from keras.layers import *\n",
        "from keras.models import Model\n",
        "from keras.preprocessing.image import load_img,img_to_array\n",
        "#from keras.applications.vgg19 import preprocess_input\n",
        "from keras.preprocessing.text import Tokenizer\n",
        "from keras.preprocessing.sequence import pad_sequences\n",
        "from keras.utils import to_categorical\n",
        "from keras.optimizers import RMSprop\n",
        "import pandas as pd\n",
        "import string\n",
        "from collections import Counter\n",
        "from copy import copy"
      ],
      "execution_count": 0,
      "outputs": [
        {
          "output_type": "stream",
          "text": [
            "Using TensorFlow backend.\n"
          ],
          "name": "stderr"
        }
      ]
    },
    {
      "cell_type": "code",
      "metadata": {
        "id": "gFaQWKPe0g3O",
        "colab_type": "code",
        "colab": {}
      },
      "source": [
        "def generator():\n",
        "  img=Input(shape=[128,])\n",
        "  \n",
        "  model2=Dense(2048,input_dim=128)(img)\n",
        "  model2=BatchNormalization()(model2)\n",
        "  model2=Reshape(target_shape=(4, 4, 128))(model2)\n",
        "  \n",
        "  model2=Conv2DTranspose(64, 5, strides=2,padding='same')(model2)\n",
        "  model2=BatchNormalization()(model2)\n",
        "  \n",
        "  model2=Conv2DTranspose(32, 5, strides=2,padding='same')(model2)\n",
        "  model2=BatchNormalization()(model2)\n",
        "  model2=Conv2DTranspose(32, 5, strides=2,padding='same')(model2)\n",
        "  model2=BatchNormalization()(model2)\n",
        "  \n",
        "  model2=Conv2DTranspose(16, 5, strides=2,padding='same')(model2)\n",
        "  model2=BatchNormalization()(model2)\n",
        "  \n",
        "  model2=Conv2DTranspose(16, 5, strides=2,padding='same')(model2)\n",
        "  model2=BatchNormalization()(model2)\n",
        "  model2=LeakyReLU(0.2)(model2)\n",
        "  \n",
        "  model2=SeparableConv2D(3,5,padding='same',activation='tanh')(model2)\n",
        "    \n",
        "  return Model(inputs=img,outputs=model2)\n",
        "  "
      ],
      "execution_count": 0,
      "outputs": []
    },
    {
      "cell_type": "code",
      "metadata": {
        "id": "UGgUxuJwvZjG",
        "colab_type": "code",
        "colab": {}
      },
      "source": [
        "def discriminator():\n",
        "  img=Input(shape=[128,128,3])\n",
        "  \n",
        "  model1=SeparableConv2D(16, (3,3), padding='same')(img)\n",
        "  model1=BatchNormalization()(model1)\n",
        "  model1=SeparableConv2D(32,(3,3),padding='same')(model1)\n",
        "  model1=BatchNormalization()(model1)\n",
        "  model1=SeparableConv2D(32,(3,3),padding='same')(model1)\n",
        "  model1=BatchNormalization()(model1)\n",
        "  model1=SeparableConv2D(64,(3,3),padding='same')(model1)\n",
        "  model1=BatchNormalization()(model1)\n",
        "  model1=SeparableConv2D(64,(3,3),padding='same')(model1)\n",
        "  model1=BatchNormalization()(model1)\n",
        "  model1=SeparableConv2D(128,(3,3),padding='same')(model1)\n",
        "  model1=BatchNormalization()(model1)\n",
        "  model1=LeakyReLU(0.2)(model1)\n",
        "  \n",
        "  model1=GlobalAveragePooling2D()(model1)\n",
        "  model1=Dense(1,activation='sigmoid')(model1)\n",
        "  return Model(inputs=img,output=model1)"
      ],
      "execution_count": 0,
      "outputs": []
    },
    {
      "cell_type": "code",
      "metadata": {
        "id": "ceHAnnHg4bh6",
        "colab_type": "code",
        "colab": {}
      },
      "source": [
        "def complete():\n",
        "  disc=discriminator()\n",
        "  disc.compile(loss='binary_crossentropy',optimizer='RMSprop',metrics=['mae'])\n",
        "  \n",
        "  gen=generator()\n",
        "  \n",
        "  gan = keras.Sequential()\n",
        "  gan.add(gen)\n",
        "  gan.add(disc)\n",
        "  disc.trainable = False \n",
        "  gan.compile(loss='binary_crossentropy', optimizer='RMSprop', metrics=['mae'])\n",
        "  \n",
        "  return disc,gen,gan"
      ],
      "execution_count": 0,
      "outputs": []
    },
    {
      "cell_type": "code",
      "metadata": {
        "id": "95tINpfa53fB",
        "colab_type": "code",
        "colab": {}
      },
      "source": [
        "def training(epochs=1000,k=50):\n",
        "  \n",
        "  for epoch in range(epochs):\n",
        "    for i in range(k):\n",
        "      real=imgs[np.random.randint(0,imgs.shape[0], size=64)]\n",
        "      \n",
        "      noise=np.random.randn(64,128)\n",
        "      fake=gen.predict(noise)\n",
        "      #print(fake.shape)\n",
        "      \n",
        "      pred_real=disc.train_on_batch(real, np.ones([64]))[1]\n",
        "      pred_fake=disc.train_on_batch(fake, np.zeros([64]))[1]\n",
        "      \n",
        "    y=np.ones([64,1])\n",
        "    noise=np.random.randn(64,128)  \n",
        "    gan_pred=gan.train_on_batch(noise,y)[1]\n",
        "    print(epoch)\n",
        "    \n",
        "    "
      ],
      "execution_count": 0,
      "outputs": []
    },
    {
      "cell_type": "code",
      "metadata": {
        "id": "hDtQm4HuCHSC",
        "colab_type": "code",
        "outputId": "84a0cd99-79e7-469d-de7e-143503c78925",
        "colab": {
          "base_uri": "https://localhost:8080/",
          "height": 802
        }
      },
      "source": [
        "disc,gen,gan=complete()\n",
        "disc.summary()"
      ],
      "execution_count": 0,
      "outputs": [
        {
          "output_type": "stream",
          "text": [
            "WARNING:tensorflow:From /usr/local/lib/python3.6/dist-packages/tensorflow/python/framework/op_def_library.py:263: colocate_with (from tensorflow.python.framework.ops) is deprecated and will be removed in a future version.\n",
            "Instructions for updating:\n",
            "Colocations handled automatically by placer.\n"
          ],
          "name": "stdout"
        },
        {
          "output_type": "stream",
          "text": [
            "/usr/local/lib/python3.6/dist-packages/ipykernel_launcher.py:20: UserWarning: Update your `Model` call to the Keras 2 API: `Model(inputs=Tensor(\"in..., outputs=Tensor(\"de...)`\n"
          ],
          "name": "stderr"
        },
        {
          "output_type": "stream",
          "text": [
            "_________________________________________________________________\n",
            "Layer (type)                 Output Shape              Param #   \n",
            "=================================================================\n",
            "input_1 (InputLayer)         (None, 128, 128, 3)       0         \n",
            "_________________________________________________________________\n",
            "separable_conv2d_1 (Separabl (None, 128, 128, 16)      91        \n",
            "_________________________________________________________________\n",
            "batch_normalization_1 (Batch (None, 128, 128, 16)      64        \n",
            "_________________________________________________________________\n",
            "separable_conv2d_2 (Separabl (None, 128, 128, 32)      688       \n",
            "_________________________________________________________________\n",
            "batch_normalization_2 (Batch (None, 128, 128, 32)      128       \n",
            "_________________________________________________________________\n",
            "separable_conv2d_3 (Separabl (None, 128, 128, 32)      1344      \n",
            "_________________________________________________________________\n",
            "batch_normalization_3 (Batch (None, 128, 128, 32)      128       \n",
            "_________________________________________________________________\n",
            "separable_conv2d_4 (Separabl (None, 128, 128, 64)      2400      \n",
            "_________________________________________________________________\n",
            "batch_normalization_4 (Batch (None, 128, 128, 64)      256       \n",
            "_________________________________________________________________\n",
            "separable_conv2d_5 (Separabl (None, 128, 128, 64)      4736      \n",
            "_________________________________________________________________\n",
            "batch_normalization_5 (Batch (None, 128, 128, 64)      256       \n",
            "_________________________________________________________________\n",
            "separable_conv2d_6 (Separabl (None, 128, 128, 128)     8896      \n",
            "_________________________________________________________________\n",
            "batch_normalization_6 (Batch (None, 128, 128, 128)     512       \n",
            "_________________________________________________________________\n",
            "leaky_re_lu_1 (LeakyReLU)    (None, 128, 128, 128)     0         \n",
            "_________________________________________________________________\n",
            "global_average_pooling2d_1 ( (None, 128)               0         \n",
            "_________________________________________________________________\n",
            "dense_1 (Dense)              (None, 1)                 129       \n",
            "=================================================================\n",
            "Total params: 38,584\n",
            "Trainable params: 18,956\n",
            "Non-trainable params: 19,628\n",
            "_________________________________________________________________\n"
          ],
          "name": "stdout"
        },
        {
          "output_type": "stream",
          "text": [
            "/usr/local/lib/python3.6/dist-packages/keras/engine/training.py:490: UserWarning: Discrepancy between trainable weights and collected trainable weights, did you set `model.trainable` without calling `model.compile` after ?\n",
            "  'Discrepancy between trainable weights and collected trainable'\n"
          ],
          "name": "stderr"
        }
      ]
    },
    {
      "cell_type": "code",
      "metadata": {
        "id": "phKO3YPjIKfI",
        "colab_type": "code",
        "outputId": "61a6479b-4ecc-4b87-895d-dd744ffce925",
        "colab": {
          "base_uri": "https://localhost:8080/",
          "height": 680
        }
      },
      "source": [
        "gen.summary()"
      ],
      "execution_count": 0,
      "outputs": [
        {
          "output_type": "stream",
          "text": [
            "_________________________________________________________________\n",
            "Layer (type)                 Output Shape              Param #   \n",
            "=================================================================\n",
            "input_2 (InputLayer)         (None, 128)               0         \n",
            "_________________________________________________________________\n",
            "dense_2 (Dense)              (None, 2048)              264192    \n",
            "_________________________________________________________________\n",
            "batch_normalization_7 (Batch (None, 2048)              8192      \n",
            "_________________________________________________________________\n",
            "reshape_1 (Reshape)          (None, 4, 4, 128)         0         \n",
            "_________________________________________________________________\n",
            "conv2d_transpose_1 (Conv2DTr (None, 8, 8, 64)          204864    \n",
            "_________________________________________________________________\n",
            "batch_normalization_8 (Batch (None, 8, 8, 64)          256       \n",
            "_________________________________________________________________\n",
            "conv2d_transpose_2 (Conv2DTr (None, 16, 16, 32)        51232     \n",
            "_________________________________________________________________\n",
            "batch_normalization_9 (Batch (None, 16, 16, 32)        128       \n",
            "_________________________________________________________________\n",
            "conv2d_transpose_3 (Conv2DTr (None, 32, 32, 32)        25632     \n",
            "_________________________________________________________________\n",
            "batch_normalization_10 (Batc (None, 32, 32, 32)        128       \n",
            "_________________________________________________________________\n",
            "conv2d_transpose_4 (Conv2DTr (None, 64, 64, 16)        12816     \n",
            "_________________________________________________________________\n",
            "batch_normalization_11 (Batc (None, 64, 64, 16)        64        \n",
            "_________________________________________________________________\n",
            "conv2d_transpose_5 (Conv2DTr (None, 128, 128, 16)      6416      \n",
            "_________________________________________________________________\n",
            "batch_normalization_12 (Batc (None, 128, 128, 16)      64        \n",
            "_________________________________________________________________\n",
            "leaky_re_lu_2 (LeakyReLU)    (None, 128, 128, 16)      0         \n",
            "_________________________________________________________________\n",
            "separable_conv2d_7 (Separabl (None, 128, 128, 3)       451       \n",
            "=================================================================\n",
            "Total params: 574,435\n",
            "Trainable params: 570,019\n",
            "Non-trainable params: 4,416\n",
            "_________________________________________________________________\n"
          ],
          "name": "stdout"
        }
      ]
    },
    {
      "cell_type": "code",
      "metadata": {
        "id": "STDSXH7OFde7",
        "colab_type": "code",
        "colab": {}
      },
      "source": [
        "training()"
      ],
      "execution_count": 0,
      "outputs": []
    },
    {
      "cell_type": "code",
      "metadata": {
        "id": "cNBWWdZxB2I0",
        "colab_type": "code",
        "colab": {}
      },
      "source": [
        "samples=7\n",
        "plt.figure(figsize=(sample * 3, 3))\n",
        "\n",
        "for i in range(samples):\n",
        "    noise = np.random.randn(1, 128) \n",
        "    pred = gen.predict(noise)[0]\n",
        "    plt.subplot(1, NUM, i + 1)\n",
        "    plt.imshow(pred)\n",
        "plt.show()"
      ],
      "execution_count": 0,
      "outputs": []
    }
  ]
}